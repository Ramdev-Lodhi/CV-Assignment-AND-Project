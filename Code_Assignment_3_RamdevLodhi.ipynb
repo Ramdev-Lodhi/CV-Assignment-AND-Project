{
  "nbformat": 4,
  "nbformat_minor": 0,
  "metadata": {
    "colab": {
      "provenance": [],
      "include_colab_link": true
    },
    "kernelspec": {
      "name": "python3",
      "display_name": "Python 3"
    },
    "language_info": {
      "name": "python"
    }
  },
  "cells": [
    {
      "cell_type": "markdown",
      "metadata": {
        "id": "view-in-github",
        "colab_type": "text"
      },
      "source": [
        "<a href=\"https://colab.research.google.com/github/rsthakur8815/CV-Assignment/blob/main/Code_Assignment_3_RamdevLodhi.ipynb\" target=\"_parent\"><img src=\"https://colab.research.google.com/assets/colab-badge.svg\" alt=\"Open In Colab\"/></a>"
      ]
    },
    {
      "cell_type": "code",
      "execution_count": null,
      "metadata": {
        "id": "man_dYnm7V8C"
      },
      "outputs": [],
      "source": [
        "import numpy as np\n",
        "import pandas as pd\n",
        "from math import log2"
      ]
    },
    {
      "cell_type": "code",
      "source": [
        "data = {\n",
        "    'age': ['<=30', '<=30', '31..40', '>40', '>40', '>40', '31..40', '31..40', '<=30', '<=30', '>40', '<=30', '<=30', '31..40', '31..40', '>40'],\n",
        "    'income': ['high', 'high', 'high', 'medium', 'low', 'low', 'low', 'low', 'medium', 'medium', 'medium', 'medium', 'medium', 'medium', 'high', 'medium'],\n",
        "    'student': ['no', 'no', 'no', 'no', 'yes', 'yes', 'yes', 'yes', 'no', 'no', 'yes', 'yes', 'yes', 'yes', 'yes', 'no'],\n",
        "    'credit_rating': ['fair', 'fair', 'fair', 'fair', 'fair', 'excellent', 'excellent', 'fair', 'fair', 'fair', 'fair', 'excellent', 'excellent', 'fair', 'fair', 'fair'],\n",
        "    'buys_computer': ['no', 'no', 'yes', 'yes', 'yes', 'no', 'yes', 'no', 'no', 'yes', 'yes', 'yes', 'yes', 'yes', 'yes', 'no']\n",
        "}\n",
        "df = pd.DataFrame(data)"
      ],
      "metadata": {
        "id": "k8C6XF8KCFBe"
      },
      "execution_count": null,
      "outputs": []
    },
    {
      "cell_type": "code",
      "source": [
        "def entropy(class_probabilities):\n",
        "    return sum(-p * log2(p) for p in class_probabilities if p)\n"
      ],
      "metadata": {
        "id": "RX4svm4CCGom"
      },
      "execution_count": null,
      "outputs": []
    },
    {
      "cell_type": "code",
      "source": [
        "\n",
        "# Function to calculate information gain\n",
        "def information_gain(data, feature_name, target_name):\n",
        "    # Calculate total entropy before split\n",
        "    total_entropy = entropy([len(data[data[target_name] == target]) / len(data) for target in data[target_name].unique()])\n",
        "\n",
        "\n",
        "    weighted_entropy = 0\n",
        "    for value in data[feature_name].unique():\n",
        "        subset = data[data[feature_name] == value]\n",
        "        weighted_entropy += len(subset) / len(data) * entropy([len(subset[subset[target_name] == target]) / len(subset) for target in subset[target_name].unique()])\n",
        "\n",
        "    # Calculate information gain\n",
        "    return total_entropy - weighted_entropy\n"
      ],
      "metadata": {
        "id": "-JqY9KfoCZNY"
      },
      "execution_count": null,
      "outputs": []
    },
    {
      "cell_type": "code",
      "source": [
        "\n",
        "# Function to find best feature to split on\n",
        "def find_best_split(data, target_name):\n",
        "    best_feature = None\n",
        "    best_gain = -1\n",
        "    for feature in data.columns[:-1]:\n",
        "        gain = information_gain(data, feature, target_name)\n",
        "        if gain > best_gain:\n",
        "            best_gain = gain\n",
        "            best_feature = feature\n",
        "    return best_feature\n"
      ],
      "metadata": {
        "id": "2cIeczdsCdXA"
      },
      "execution_count": null,
      "outputs": []
    },
    {
      "cell_type": "code",
      "source": [
        "\n",
        "# Define Node class for the decision tree\n",
        "class Node:\n",
        "    def __init__(self, feature=None, value=None, result=None):\n",
        "        self.feature = feature\n",
        "        self.value = value\n",
        "        self.result = result\n",
        "        self.children = {}\n"
      ],
      "metadata": {
        "id": "wVVr67qpCgbY"
      },
      "execution_count": null,
      "outputs": []
    },
    {
      "cell_type": "code",
      "source": [
        "\n",
        "\n",
        "def build_tree(data, target_name):\n",
        "\n",
        "    if len(data[target_name].unique()) == 1:\n",
        "        return Node(result=data[target_name].iloc[0])\n",
        "\n",
        "\n",
        "    if len(data.columns) == 1:\n",
        "        return Node(result=data[target_name].mode().iloc[0])\n",
        "\n",
        "\n",
        "    best_feature = find_best_split(data, target_name)\n",
        "\n",
        "\n",
        "    node = Node(feature=best_feature)\n",
        "\n",
        "\n",
        "    for value in data[best_feature].unique():\n",
        "        subset = data[data[best_feature] == value]\n",
        "        node.children[value] = build_tree(subset.drop(columns=[best_feature]), target_name)\n",
        "\n",
        "    return node\n"
      ],
      "metadata": {
        "id": "vwbKSqJiCifY"
      },
      "execution_count": null,
      "outputs": []
    },
    {
      "cell_type": "code",
      "source": [
        "\n",
        "\n",
        "def classify(instance, tree):\n",
        "    if tree.result is not None:\n",
        "        return tree.result\n",
        "    value = instance[tree.feature]\n",
        "    if value not in tree.children:\n",
        "        return tree.children['<other>'].result\n",
        "    return classify(instance, tree.children[value])\n",
        "\n"
      ],
      "metadata": {
        "id": "IWMEg6Z_ClCB"
      },
      "execution_count": null,
      "outputs": []
    },
    {
      "cell_type": "code",
      "source": [
        "\n",
        "tree = build_tree(df, 'buys_computer')\n",
        "\n",
        "# Test the decision tree\n",
        "test_instance = {'age': '<=30', 'income': 'medium', 'student': 'yes', 'credit_rating': 'fair'}\n",
        "print(\"Prediction for test instance:\", classify(test_instance, tree))"
      ],
      "metadata": {
        "colab": {
          "base_uri": "https://localhost:8080/"
        },
        "id": "B4g2_hwpCoTI",
        "outputId": "5983b81c-b2d4-4880-badd-3d9c38eda7ea"
      },
      "execution_count": null,
      "outputs": [
        {
          "output_type": "stream",
          "name": "stdout",
          "text": [
            "Prediction for test instance: yes\n"
          ]
        }
      ]
    }
  ]
}